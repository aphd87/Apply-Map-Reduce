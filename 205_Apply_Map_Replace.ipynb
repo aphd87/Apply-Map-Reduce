{
 "cells": [
  {
   "cell_type": "code",
   "execution_count": 4,
   "id": "1e8f8c38",
   "metadata": {},
   "outputs": [],
   "source": [
    "import pandas as pd\n",
    "customer_details = pd.read_excel(\"grocery_database.xlsx\", sheet_name = \"customer_details\")\n",
    "product_areas = pd.read_excel(\"grocery_database.xlsx\", sheet_name = \"product_areas\")"
   ]
  },
  {
   "cell_type": "code",
   "execution_count": 5,
   "id": "7815551e",
   "metadata": {},
   "outputs": [],
   "source": [
    "#We need to convert gender M=0 and F=1\n",
    "#MAP\n",
    "#See males and females in two different columns\n",
    "customer_details[\"gender_numeric\"] = customer_details[\"gender\"].map({\"M\":0,\n",
    "                                                                    \"F\" : 1})"
   ]
  },
  {
   "cell_type": "code",
   "execution_count": 6,
   "id": "f8a860c6",
   "metadata": {},
   "outputs": [
    {
     "data": {
      "text/html": [
       "<div>\n",
       "<style scoped>\n",
       "    .dataframe tbody tr th:only-of-type {\n",
       "        vertical-align: middle;\n",
       "    }\n",
       "\n",
       "    .dataframe tbody tr th {\n",
       "        vertical-align: top;\n",
       "    }\n",
       "\n",
       "    .dataframe thead th {\n",
       "        text-align: right;\n",
       "    }\n",
       "</style>\n",
       "<table border=\"1\" class=\"dataframe\">\n",
       "  <thead>\n",
       "    <tr style=\"text-align: right;\">\n",
       "      <th></th>\n",
       "      <th>customer_id</th>\n",
       "      <th>distance_from_store</th>\n",
       "      <th>gender</th>\n",
       "      <th>credit_score</th>\n",
       "      <th>gender_numeric</th>\n",
       "    </tr>\n",
       "  </thead>\n",
       "  <tbody>\n",
       "    <tr>\n",
       "      <th>0</th>\n",
       "      <td>74</td>\n",
       "      <td>3.38</td>\n",
       "      <td>F</td>\n",
       "      <td>0.59</td>\n",
       "      <td>1.0</td>\n",
       "    </tr>\n",
       "    <tr>\n",
       "      <th>1</th>\n",
       "      <td>524</td>\n",
       "      <td>4.76</td>\n",
       "      <td>F</td>\n",
       "      <td>0.52</td>\n",
       "      <td>1.0</td>\n",
       "    </tr>\n",
       "    <tr>\n",
       "      <th>2</th>\n",
       "      <td>607</td>\n",
       "      <td>4.45</td>\n",
       "      <td>F</td>\n",
       "      <td>0.49</td>\n",
       "      <td>1.0</td>\n",
       "    </tr>\n",
       "    <tr>\n",
       "      <th>3</th>\n",
       "      <td>343</td>\n",
       "      <td>0.91</td>\n",
       "      <td>M</td>\n",
       "      <td>0.54</td>\n",
       "      <td>0.0</td>\n",
       "    </tr>\n",
       "    <tr>\n",
       "      <th>4</th>\n",
       "      <td>322</td>\n",
       "      <td>3.02</td>\n",
       "      <td>F</td>\n",
       "      <td>0.63</td>\n",
       "      <td>1.0</td>\n",
       "    </tr>\n",
       "    <tr>\n",
       "      <th>...</th>\n",
       "      <td>...</td>\n",
       "      <td>...</td>\n",
       "      <td>...</td>\n",
       "      <td>...</td>\n",
       "      <td>...</td>\n",
       "    </tr>\n",
       "    <tr>\n",
       "      <th>865</th>\n",
       "      <td>372</td>\n",
       "      <td>4.38</td>\n",
       "      <td>F</td>\n",
       "      <td>0.50</td>\n",
       "      <td>1.0</td>\n",
       "    </tr>\n",
       "    <tr>\n",
       "      <th>866</th>\n",
       "      <td>104</td>\n",
       "      <td>2.36</td>\n",
       "      <td>F</td>\n",
       "      <td>0.63</td>\n",
       "      <td>1.0</td>\n",
       "    </tr>\n",
       "    <tr>\n",
       "      <th>867</th>\n",
       "      <td>393</td>\n",
       "      <td>1.87</td>\n",
       "      <td>M</td>\n",
       "      <td>0.59</td>\n",
       "      <td>0.0</td>\n",
       "    </tr>\n",
       "    <tr>\n",
       "      <th>868</th>\n",
       "      <td>373</td>\n",
       "      <td>0.21</td>\n",
       "      <td>M</td>\n",
       "      <td>0.47</td>\n",
       "      <td>0.0</td>\n",
       "    </tr>\n",
       "    <tr>\n",
       "      <th>869</th>\n",
       "      <td>712</td>\n",
       "      <td>0.07</td>\n",
       "      <td>M</td>\n",
       "      <td>0.70</td>\n",
       "      <td>0.0</td>\n",
       "    </tr>\n",
       "  </tbody>\n",
       "</table>\n",
       "<p>870 rows × 5 columns</p>\n",
       "</div>"
      ],
      "text/plain": [
       "     customer_id  distance_from_store gender  credit_score  gender_numeric\n",
       "0             74                 3.38      F          0.59             1.0\n",
       "1            524                 4.76      F          0.52             1.0\n",
       "2            607                 4.45      F          0.49             1.0\n",
       "3            343                 0.91      M          0.54             0.0\n",
       "4            322                 3.02      F          0.63             1.0\n",
       "..           ...                  ...    ...           ...             ...\n",
       "865          372                 4.38      F          0.50             1.0\n",
       "866          104                 2.36      F          0.63             1.0\n",
       "867          393                 1.87      M          0.59             0.0\n",
       "868          373                 0.21      M          0.47             0.0\n",
       "869          712                 0.07      M          0.70             0.0\n",
       "\n",
       "[870 rows x 5 columns]"
      ]
     },
     "execution_count": 6,
     "metadata": {},
     "output_type": "execute_result"
    }
   ],
   "source": [
    "customer_details\n",
    "#As we can see, male and female are now coded well here."
   ]
  },
  {
   "cell_type": "code",
   "execution_count": 8,
   "id": "54496e2a",
   "metadata": {},
   "outputs": [],
   "source": [
    "#If you didn't code M and just coded F, you'd get null/Nan values for M\n",
    "#Make sure that you specify all values in the mapping dictionary\n",
    "\n",
    "#Replace\n",
    "customer_details[\"gender_numeric\"] = customer_details[\"gender\"].replace({\"M\":0,\n",
    "                                                                    \"F\" : 1})\n",
    "customer_details[\"gender_numeric\"] = customer_details[\"gender\"].replace({\"F\" : 1})\n"
   ]
  },
  {
   "cell_type": "code",
   "execution_count": 9,
   "id": "1c55c3ab",
   "metadata": {},
   "outputs": [
    {
     "data": {
      "text/html": [
       "<div>\n",
       "<style scoped>\n",
       "    .dataframe tbody tr th:only-of-type {\n",
       "        vertical-align: middle;\n",
       "    }\n",
       "\n",
       "    .dataframe tbody tr th {\n",
       "        vertical-align: top;\n",
       "    }\n",
       "\n",
       "    .dataframe thead th {\n",
       "        text-align: right;\n",
       "    }\n",
       "</style>\n",
       "<table border=\"1\" class=\"dataframe\">\n",
       "  <thead>\n",
       "    <tr style=\"text-align: right;\">\n",
       "      <th></th>\n",
       "      <th>customer_id</th>\n",
       "      <th>distance_from_store</th>\n",
       "      <th>gender</th>\n",
       "      <th>credit_score</th>\n",
       "      <th>gender_numeric</th>\n",
       "    </tr>\n",
       "  </thead>\n",
       "  <tbody>\n",
       "    <tr>\n",
       "      <th>0</th>\n",
       "      <td>74</td>\n",
       "      <td>3.38</td>\n",
       "      <td>F</td>\n",
       "      <td>0.59</td>\n",
       "      <td>1</td>\n",
       "    </tr>\n",
       "    <tr>\n",
       "      <th>1</th>\n",
       "      <td>524</td>\n",
       "      <td>4.76</td>\n",
       "      <td>F</td>\n",
       "      <td>0.52</td>\n",
       "      <td>1</td>\n",
       "    </tr>\n",
       "    <tr>\n",
       "      <th>2</th>\n",
       "      <td>607</td>\n",
       "      <td>4.45</td>\n",
       "      <td>F</td>\n",
       "      <td>0.49</td>\n",
       "      <td>1</td>\n",
       "    </tr>\n",
       "    <tr>\n",
       "      <th>3</th>\n",
       "      <td>343</td>\n",
       "      <td>0.91</td>\n",
       "      <td>M</td>\n",
       "      <td>0.54</td>\n",
       "      <td>M</td>\n",
       "    </tr>\n",
       "    <tr>\n",
       "      <th>4</th>\n",
       "      <td>322</td>\n",
       "      <td>3.02</td>\n",
       "      <td>F</td>\n",
       "      <td>0.63</td>\n",
       "      <td>1</td>\n",
       "    </tr>\n",
       "    <tr>\n",
       "      <th>...</th>\n",
       "      <td>...</td>\n",
       "      <td>...</td>\n",
       "      <td>...</td>\n",
       "      <td>...</td>\n",
       "      <td>...</td>\n",
       "    </tr>\n",
       "    <tr>\n",
       "      <th>865</th>\n",
       "      <td>372</td>\n",
       "      <td>4.38</td>\n",
       "      <td>F</td>\n",
       "      <td>0.50</td>\n",
       "      <td>1</td>\n",
       "    </tr>\n",
       "    <tr>\n",
       "      <th>866</th>\n",
       "      <td>104</td>\n",
       "      <td>2.36</td>\n",
       "      <td>F</td>\n",
       "      <td>0.63</td>\n",
       "      <td>1</td>\n",
       "    </tr>\n",
       "    <tr>\n",
       "      <th>867</th>\n",
       "      <td>393</td>\n",
       "      <td>1.87</td>\n",
       "      <td>M</td>\n",
       "      <td>0.59</td>\n",
       "      <td>M</td>\n",
       "    </tr>\n",
       "    <tr>\n",
       "      <th>868</th>\n",
       "      <td>373</td>\n",
       "      <td>0.21</td>\n",
       "      <td>M</td>\n",
       "      <td>0.47</td>\n",
       "      <td>M</td>\n",
       "    </tr>\n",
       "    <tr>\n",
       "      <th>869</th>\n",
       "      <td>712</td>\n",
       "      <td>0.07</td>\n",
       "      <td>M</td>\n",
       "      <td>0.70</td>\n",
       "      <td>M</td>\n",
       "    </tr>\n",
       "  </tbody>\n",
       "</table>\n",
       "<p>870 rows × 5 columns</p>\n",
       "</div>"
      ],
      "text/plain": [
       "     customer_id  distance_from_store gender  credit_score gender_numeric\n",
       "0             74                 3.38      F          0.59              1\n",
       "1            524                 4.76      F          0.52              1\n",
       "2            607                 4.45      F          0.49              1\n",
       "3            343                 0.91      M          0.54              M\n",
       "4            322                 3.02      F          0.63              1\n",
       "..           ...                  ...    ...           ...            ...\n",
       "865          372                 4.38      F          0.50              1\n",
       "866          104                 2.36      F          0.63              1\n",
       "867          393                 1.87      M          0.59              M\n",
       "868          373                 0.21      M          0.47              M\n",
       "869          712                 0.07      M          0.70              M\n",
       "\n",
       "[870 rows x 5 columns]"
      ]
     },
     "execution_count": 9,
     "metadata": {},
     "output_type": "execute_result"
    }
   ],
   "source": [
    "customer_details\n",
    "#Here, we get original values rather than nulls.\n",
    "#Replace -  I will keep value the same unless you tell me to specifically replace it.\n",
    "#Mapping requires you to bring over certain values rather than have them carried across."
   ]
  },
  {
   "cell_type": "code",
   "execution_count": 10,
   "id": "79ea4732",
   "metadata": {},
   "outputs": [
    {
     "data": {
      "text/plain": [
       "0     8\n",
       "1    10\n",
       "2     5\n",
       "3     5\n",
       "4     4\n",
       "Name: product_area_name, dtype: int64"
      ]
     },
     "execution_count": 10,
     "metadata": {},
     "output_type": "execute_result"
    }
   ],
   "source": [
    "#Apply\n",
    "#Call a function and apply it\n",
    "product_areas[\"product_area_name\"].apply(len)\n",
    "#Applying length function to product_area_name\n",
    "#length of strings in each row"
   ]
  },
  {
   "cell_type": "code",
   "execution_count": 12,
   "id": "8ddd3bf5",
   "metadata": {},
   "outputs": [],
   "source": [
    "#Create function to update profit margin\n",
    "#If profit margin > 20%, then it needs to increase by a small amount, otherwise it needs to go down\n",
    "#This is just an example for apply function - logic is off\n",
    "def update_profit_margin(profit_margin):\n",
    "    if profit_margin > 0.2:\n",
    "        return profit_margin*1.2\n",
    "    else:\n",
    "        return profit_margin*0.8"
   ]
  },
  {
   "cell_type": "code",
   "execution_count": 13,
   "id": "245a6d57",
   "metadata": {},
   "outputs": [],
   "source": [
    "product_areas[\"profit_margin_updated\"] = product_areas[\"profit_margin\"].apply(update_profit_margin)"
   ]
  },
  {
   "cell_type": "code",
   "execution_count": 14,
   "id": "54367ebe",
   "metadata": {},
   "outputs": [
    {
     "data": {
      "text/html": [
       "<div>\n",
       "<style scoped>\n",
       "    .dataframe tbody tr th:only-of-type {\n",
       "        vertical-align: middle;\n",
       "    }\n",
       "\n",
       "    .dataframe tbody tr th {\n",
       "        vertical-align: top;\n",
       "    }\n",
       "\n",
       "    .dataframe thead th {\n",
       "        text-align: right;\n",
       "    }\n",
       "</style>\n",
       "<table border=\"1\" class=\"dataframe\">\n",
       "  <thead>\n",
       "    <tr style=\"text-align: right;\">\n",
       "      <th></th>\n",
       "      <th>product_area_id</th>\n",
       "      <th>product_area_name</th>\n",
       "      <th>profit_margin</th>\n",
       "      <th>profit_margin_updated</th>\n",
       "    </tr>\n",
       "  </thead>\n",
       "  <tbody>\n",
       "    <tr>\n",
       "      <th>0</th>\n",
       "      <td>1</td>\n",
       "      <td>Non-Food</td>\n",
       "      <td>0.25</td>\n",
       "      <td>0.300</td>\n",
       "    </tr>\n",
       "    <tr>\n",
       "      <th>1</th>\n",
       "      <td>2</td>\n",
       "      <td>Vegetables</td>\n",
       "      <td>0.18</td>\n",
       "      <td>0.144</td>\n",
       "    </tr>\n",
       "    <tr>\n",
       "      <th>2</th>\n",
       "      <td>3</td>\n",
       "      <td>Fruit</td>\n",
       "      <td>0.14</td>\n",
       "      <td>0.112</td>\n",
       "    </tr>\n",
       "    <tr>\n",
       "      <th>3</th>\n",
       "      <td>4</td>\n",
       "      <td>Dairy</td>\n",
       "      <td>0.19</td>\n",
       "      <td>0.152</td>\n",
       "    </tr>\n",
       "    <tr>\n",
       "      <th>4</th>\n",
       "      <td>5</td>\n",
       "      <td>Meat</td>\n",
       "      <td>0.11</td>\n",
       "      <td>0.088</td>\n",
       "    </tr>\n",
       "  </tbody>\n",
       "</table>\n",
       "</div>"
      ],
      "text/plain": [
       "   product_area_id product_area_name  profit_margin  profit_margin_updated\n",
       "0                1          Non-Food           0.25                  0.300\n",
       "1                2        Vegetables           0.18                  0.144\n",
       "2                3             Fruit           0.14                  0.112\n",
       "3                4             Dairy           0.19                  0.152\n",
       "4                5              Meat           0.11                  0.088"
      ]
     },
     "execution_count": 14,
     "metadata": {},
     "output_type": "execute_result"
    }
   ],
   "source": [
    "product_areas"
   ]
  },
  {
   "cell_type": "code",
   "execution_count": 18,
   "id": "81c3f77f",
   "metadata": {},
   "outputs": [
    {
     "data": {
      "text/plain": [
       "A    2\n",
       "B    4\n",
       "C    6\n",
       "dtype: int64"
      ]
     },
     "execution_count": 18,
     "metadata": {},
     "output_type": "execute_result"
    }
   ],
   "source": [
    "#Apply method can be used on a whole data frame\n",
    "\n",
    "x = pd.DataFrame({\"A\" :[1,2], \"B\": [3,4], \"C\":[5,6]})\n",
    "\n",
    "x.apply(max)\n",
    "#We can maximum value that exists in each column\n",
    "#Apply works on axis = 0"
   ]
  },
  {
   "cell_type": "code",
   "execution_count": 17,
   "id": "5ac8f346",
   "metadata": {},
   "outputs": [
    {
     "data": {
      "text/plain": [
       "0    5\n",
       "1    6\n",
       "dtype: int64"
      ]
     },
     "execution_count": 17,
     "metadata": {},
     "output_type": "execute_result"
    }
   ],
   "source": [
    "#We can do this for rows\n",
    "x.apply(max,axis=1)"
   ]
  },
  {
   "cell_type": "code",
   "execution_count": 19,
   "id": "781223a3",
   "metadata": {},
   "outputs": [],
   "source": [
    "#ApplyMap\n",
    "def square(n):\n",
    "    return n ** 2\n"
   ]
  },
  {
   "cell_type": "code",
   "execution_count": 20,
   "id": "71b46ffc",
   "metadata": {},
   "outputs": [
    {
     "data": {
      "text/html": [
       "<div>\n",
       "<style scoped>\n",
       "    .dataframe tbody tr th:only-of-type {\n",
       "        vertical-align: middle;\n",
       "    }\n",
       "\n",
       "    .dataframe tbody tr th {\n",
       "        vertical-align: top;\n",
       "    }\n",
       "\n",
       "    .dataframe thead th {\n",
       "        text-align: right;\n",
       "    }\n",
       "</style>\n",
       "<table border=\"1\" class=\"dataframe\">\n",
       "  <thead>\n",
       "    <tr style=\"text-align: right;\">\n",
       "      <th></th>\n",
       "      <th>A</th>\n",
       "      <th>B</th>\n",
       "      <th>C</th>\n",
       "    </tr>\n",
       "  </thead>\n",
       "  <tbody>\n",
       "    <tr>\n",
       "      <th>0</th>\n",
       "      <td>1</td>\n",
       "      <td>9</td>\n",
       "      <td>25</td>\n",
       "    </tr>\n",
       "    <tr>\n",
       "      <th>1</th>\n",
       "      <td>4</td>\n",
       "      <td>16</td>\n",
       "      <td>36</td>\n",
       "    </tr>\n",
       "  </tbody>\n",
       "</table>\n",
       "</div>"
      ],
      "text/plain": [
       "   A   B   C\n",
       "0  1   9  25\n",
       "1  4  16  36"
      ]
     },
     "execution_count": 20,
     "metadata": {},
     "output_type": "execute_result"
    }
   ],
   "source": [
    "x.applymap(square)\n",
    "#Applied square function to all entire data frame"
   ]
  },
  {
   "cell_type": "code",
   "execution_count": null,
   "id": "d4c8df0d",
   "metadata": {},
   "outputs": [],
   "source": [
    "#This is useful for all text, all number data...though most data sets are mixed in nature"
   ]
  }
 ],
 "metadata": {
  "kernelspec": {
   "display_name": "Python 3 (ipykernel)",
   "language": "python",
   "name": "python3"
  },
  "language_info": {
   "codemirror_mode": {
    "name": "ipython",
    "version": 3
   },
   "file_extension": ".py",
   "mimetype": "text/x-python",
   "name": "python",
   "nbconvert_exporter": "python",
   "pygments_lexer": "ipython3",
   "version": "3.11.5"
  }
 },
 "nbformat": 4,
 "nbformat_minor": 5
}
